{
  "nbformat": 4,
  "nbformat_minor": 0,
  "metadata": {
    "colab": {
      "provenance": [],
      "collapsed_sections": [
        "2xaCKXnR0hPU"
      ],
      "authorship_tag": "ABX9TyNLSzqEREVIEWhbhsVvOyju",
      "include_colab_link": true
    },
    "kernelspec": {
      "name": "python3",
      "display_name": "Python 3"
    },
    "language_info": {
      "name": "python"
    }
  },
  "cells": [
    {
      "cell_type": "markdown",
      "metadata": {
        "id": "view-in-github",
        "colab_type": "text"
      },
      "source": [
        "<a href=\"https://colab.research.google.com/github/Csed-dev/Bewerbung/blob/main/TicTacToe.ipynb\" target=\"_parent\"><img src=\"https://colab.research.google.com/assets/colab-badge.svg\" alt=\"Open In Colab\"/></a>"
      ]
    },
    {
      "cell_type": "markdown",
      "source": [
        "# TicTacToe"
      ],
      "metadata": {
        "id": "-WnQYGXnBTZ5"
      }
    },
    {
      "cell_type": "markdown",
      "source": [
        "## Vorausgesetzes Wissen\n",
        "- Erstellen und Umgang mit Funktionen / Methoden\n",
        "- Benutzen einer Klasse\n",
        "- Schleifen\n",
        "- Kontrollstrukturen\n",
        "- Listen\n",
        "- Tupel"
      ],
      "metadata": {
        "id": "iVLDNuQO1Kxr"
      }
    },
    {
      "cell_type": "markdown",
      "source": [
        "## **Aufgabenstellung**\n",
        "Ihre Aufgabe ist es die Klasse `TicTacToe` zu implementieren. Dazu sind die unten aufgeführten Methoden notwendig.\n",
        "\n",
        "### **Konstruktor** **`__init__(self)`**\n",
        "- Initialisiert das Spielbrett als eine Liste, das 9 Felder repräsentiert (3x3).\n",
        "- Setzt den aktuellen Spieler, der beginnt (normalerweise mit 'X').\n",
        "\n",
        "### **Methode**: **`make_move(self, position)`**\n",
        "Diese Funktion verwendet eine Liste von Tupeln, die als `win_conditions` bezeichnet wird. Jedes Tupel repräsentiert eine mögliche Gewinnkombination auf dem 3x3 Tic-Tac-Toe-Spielfeld.\n",
        "\n",
        "**Verständnis der Indizes und Gewinnbedingungen**\n",
        "\n",
        "Das Spielfeld wird intern als eine Liste (`self.board`) von 9 Elementen gespeichert, wobei jedes Element entweder `' '`, `'X'` oder `'O'` sein kann. Diese Elemente repräsentieren die Zellen des Spielbretts wie folgt:\n",
        "\n",
        "```\n",
        " 0 | 1 | 2\n",
        "---+---+---\n",
        " 3 | 4 | 5\n",
        "---+---+---\n",
        " 6 | 7 | 8\n",
        "```\n",
        "Jedes Tupel in `win_conditions` enthält drei Indizes, die zusammen eine Linie auf dem Spielfeld darstellen:\n",
        "\n",
        "- **Horizontale Linien:** (0, 1, 2), (3, 4, 5), (6, 7, 8)\n",
        "- **Vertikale Linien:** (0, 3, 6), (1, 4, 7), (2, 5, 8)\n",
        "- **Diagonale Linien:** (0, 4, 8), (2, 4, 6)\n",
        "\n",
        "**Funktionsweise der Überprüfung**\n",
        "\n",
        "Diese Funktion durchläuft jedes Tupel in der Liste `win_conditions`:\n",
        "\n",
        "1. Für jedes Tupel (`condition`) werden die Indizes `a`, `b` und `c` extrahiert.\n",
        "2. Die Funktion prüft dann, ob die Werte in `self.board` an den Positionen `a`, `b` und `c` gleich sind und nicht leer (' ') sind. Dies würde bedeuten, dass alle drei Felder von demselben Spieler (entweder 'X' oder 'O') belegt sind, was einen Sieg darstellt.\n",
        "3. Falls eine solche Bedingung erfüllt ist, gibt die Funktion den Wert von `self.board[a]` zurück (das könnte `'X'` oder `'O'` sein), was den Gewinner des Spiels anzeigt.\n",
        "4. Wenn keine Gewinnkombination gefunden wird, nachdem alle möglichen Gewinnbedingungen geprüft wurden, gibt die Funktion `None` zurück, was bedeutet, dass noch kein Gewinner feststeht.\n",
        "\n",
        "\n",
        "### **Methode**: **`check_winner(self)`**\n",
        "Diese Funktion ist dafür zuständig, zu überprüfen, ob es einen Gewinner im aktuellen Spiel gibt. Die Funktion arbeitet wie folgt:\n",
        "- Überprüft das Spielbrett auf eine Gewinnkondition (drei gleiche Symbole horizontal, vertikal oder diagonal).\n",
        "- Wenn es einen Gewinner gibt, gibt sie das Symbol (`'X'` oder `'O'`) des Gewinners zurück.\n",
        "- Wenn es keinen Gewinner gibt, gibt sie `None` zurück.\n",
        "\n",
        "\n",
        "\n",
        "### **Methode**: `is_full(self)`\n",
        "- Überprüft, ob alle Felder des Spielbretts besetzt sind.\n",
        "- Wird verwendet, um ein Unentschieden zu erkennen, wenn das Spielbrett voll ist und es keinen Gewinner gibt.\n",
        "\n",
        "### **Methode**: `reset(self)`\n",
        "- Setzt das Spielbrett zurück und bereitet alles für ein neues Spiel vor.\n",
        "- Setzt das Spielbrett auf einen Anfangszustand mit leeren Feldern.\n",
        "- Setzt den Spieler zurück, der als nächstes an der Reihe ist."
      ],
      "metadata": {
        "id": "8eUIac3B0bNC"
      }
    },
    {
      "cell_type": "code",
      "source": [
        "class TicTacToe:\n",
        "    def __init__(self):\n",
        "        self.board = [' '] * 9\n",
        "        self.current_player = 'X'\n",
        "\n",
        "    def make_move(self, position):\n",
        "        # TODO\n",
        "        return\n",
        "\n",
        "    def check_winner(self):\n",
        "        # TODO\n",
        "        return\n",
        "    def is_full(self):\n",
        "        # TODO\n",
        "        return\n",
        "\n",
        "    def reset(self):\n",
        "        # TODO\n",
        "        return"
      ],
      "metadata": {
        "id": "dVmwaKLy03Zu"
      },
      "execution_count": null,
      "outputs": []
    },
    {
      "cell_type": "markdown",
      "source": [
        "## Vorgegebener Teil des Codes (GUI)"
      ],
      "metadata": {
        "id": "2xaCKXnR0hPU"
      }
    },
    {
      "cell_type": "code",
      "source": [
        "import ipywidgets as widgets\n",
        "from IPython.display import display, clear_output\n",
        "\n",
        "game = TicTacToe()\n",
        "buttons = [widgets.Button(description=' ', layout=widgets.Layout(width='60px', height='60px', margin='1px')) for _ in range(9)]\n",
        "restart_button = widgets.Button(description=\"Neustart\", layout=widgets.Layout(width='200px', height='30px'))\n",
        "restart_button.layout.visibility = 'hidden'\n",
        "ungueltiger_zug_anzahl = 0\n",
        "\n",
        "out = widgets.Output()\n",
        "def on_button_clicked(b):\n",
        "    global ungueltiger_zug_anzahl\n",
        "    with out:\n",
        "        clear_output(wait=True)\n",
        "        index = buttons.index(b)\n",
        "        if game.make_move(index):\n",
        "            b.description = 'X' if game.current_player == 'O' else 'O'\n",
        "            winner = game.check_winner()\n",
        "            if winner:\n",
        "                print(f\"{winner} hat gewonnen!\")\n",
        "                restart_button.layout.visibility = 'visible'\n",
        "                return\n",
        "            elif game.is_full():\n",
        "                print(\"Unentschieden!\")\n",
        "                restart_button.layout.visibility = 'visible'\n",
        "\n",
        "        else:\n",
        "            ungueltiger_zug_anzahl += 1\n",
        "            print(f\"Ungültiger Zug! {ungueltiger_zug_anzahl}\")\n",
        "\n",
        "def reset_game(b=None):\n",
        "    global ungueltiger_zug_anzahl\n",
        "    with out:\n",
        "        clear_output()\n",
        "        game.reset()\n",
        "        for button in buttons:\n",
        "            button.description = ' '\n",
        "        ungueltiger_zug_anzahl = 0\n",
        "        restart_button.layout.visibility = 'hidden'\n",
        "\n",
        "for button in buttons:\n",
        "    button.on_click(on_button_clicked)\n",
        "\n",
        "grid = widgets.GridBox(buttons, layout=widgets.Layout(\n",
        "    grid_template_columns=\"repeat(3, 60px)\",\n",
        "    grid_gap='10px',\n",
        "    margin='0px'\n",
        "))\n",
        "\n",
        "display(grid, out, restart_button)\n",
        "restart_button.on_click(reset_game)\n",
        "reset_game()"
      ],
      "metadata": {
        "id": "kVGuR0IpAsHU",
        "colab": {
          "base_uri": "https://localhost:8080/",
          "height": 211
        },
        "outputId": "f8555ce8-efb0-41ec-d9ec-d17e366f3d6c"
      },
      "execution_count": 1,
      "outputs": [
        {
          "output_type": "error",
          "ename": "NameError",
          "evalue": "name 'TicTacToe' is not defined",
          "traceback": [
            "\u001b[0;31m---------------------------------------------------------------------------\u001b[0m",
            "\u001b[0;31mNameError\u001b[0m                                 Traceback (most recent call last)",
            "\u001b[0;32m<ipython-input-1-aa27f681af62>\u001b[0m in \u001b[0;36m<cell line: 4>\u001b[0;34m()\u001b[0m\n\u001b[1;32m      2\u001b[0m \u001b[0;32mfrom\u001b[0m \u001b[0mIPython\u001b[0m\u001b[0;34m.\u001b[0m\u001b[0mdisplay\u001b[0m \u001b[0;32mimport\u001b[0m \u001b[0mdisplay\u001b[0m\u001b[0;34m,\u001b[0m \u001b[0mclear_output\u001b[0m\u001b[0;34m\u001b[0m\u001b[0;34m\u001b[0m\u001b[0m\n\u001b[1;32m      3\u001b[0m \u001b[0;34m\u001b[0m\u001b[0m\n\u001b[0;32m----> 4\u001b[0;31m \u001b[0mgame\u001b[0m \u001b[0;34m=\u001b[0m \u001b[0mTicTacToe\u001b[0m\u001b[0;34m(\u001b[0m\u001b[0;34m)\u001b[0m\u001b[0;34m\u001b[0m\u001b[0;34m\u001b[0m\u001b[0m\n\u001b[0m\u001b[1;32m      5\u001b[0m \u001b[0mbuttons\u001b[0m \u001b[0;34m=\u001b[0m \u001b[0;34m[\u001b[0m\u001b[0mwidgets\u001b[0m\u001b[0;34m.\u001b[0m\u001b[0mButton\u001b[0m\u001b[0;34m(\u001b[0m\u001b[0mdescription\u001b[0m\u001b[0;34m=\u001b[0m\u001b[0;34m' '\u001b[0m\u001b[0;34m,\u001b[0m \u001b[0mlayout\u001b[0m\u001b[0;34m=\u001b[0m\u001b[0mwidgets\u001b[0m\u001b[0;34m.\u001b[0m\u001b[0mLayout\u001b[0m\u001b[0;34m(\u001b[0m\u001b[0mwidth\u001b[0m\u001b[0;34m=\u001b[0m\u001b[0;34m'60px'\u001b[0m\u001b[0;34m,\u001b[0m \u001b[0mheight\u001b[0m\u001b[0;34m=\u001b[0m\u001b[0;34m'60px'\u001b[0m\u001b[0;34m,\u001b[0m \u001b[0mmargin\u001b[0m\u001b[0;34m=\u001b[0m\u001b[0;34m'1px'\u001b[0m\u001b[0;34m)\u001b[0m\u001b[0;34m)\u001b[0m \u001b[0;32mfor\u001b[0m \u001b[0m_\u001b[0m \u001b[0;32min\u001b[0m \u001b[0mrange\u001b[0m\u001b[0;34m(\u001b[0m\u001b[0;36m9\u001b[0m\u001b[0;34m)\u001b[0m\u001b[0;34m]\u001b[0m\u001b[0;34m\u001b[0m\u001b[0;34m\u001b[0m\u001b[0m\n\u001b[1;32m      6\u001b[0m \u001b[0mrestart_button\u001b[0m \u001b[0;34m=\u001b[0m \u001b[0mwidgets\u001b[0m\u001b[0;34m.\u001b[0m\u001b[0mButton\u001b[0m\u001b[0;34m(\u001b[0m\u001b[0mdescription\u001b[0m\u001b[0;34m=\u001b[0m\u001b[0;34m\"Neustart\"\u001b[0m\u001b[0;34m,\u001b[0m \u001b[0mlayout\u001b[0m\u001b[0;34m=\u001b[0m\u001b[0mwidgets\u001b[0m\u001b[0;34m.\u001b[0m\u001b[0mLayout\u001b[0m\u001b[0;34m(\u001b[0m\u001b[0mwidth\u001b[0m\u001b[0;34m=\u001b[0m\u001b[0;34m'200px'\u001b[0m\u001b[0;34m,\u001b[0m \u001b[0mheight\u001b[0m\u001b[0;34m=\u001b[0m\u001b[0;34m'30px'\u001b[0m\u001b[0;34m)\u001b[0m\u001b[0;34m)\u001b[0m\u001b[0;34m\u001b[0m\u001b[0;34m\u001b[0m\u001b[0m\n",
            "\u001b[0;31mNameError\u001b[0m: name 'TicTacToe' is not defined"
          ]
        }
      ]
    },
    {
      "cell_type": "markdown",
      "source": [
        "# Lösung (Entfernen)"
      ],
      "metadata": {
        "id": "b6oSB_dp0aTB"
      }
    },
    {
      "cell_type": "code",
      "execution_count": null,
      "metadata": {
        "id": "tfXVGwMfAh0d"
      },
      "outputs": [],
      "source": [
        "class TicTacToe:\n",
        "    def __init__(self):\n",
        "        self.board = [' '] * 9\n",
        "        self.current_player = 'X'\n",
        "\n",
        "    def make_move(self, position):\n",
        "        if self.board[position] == ' ':\n",
        "            self.board[position] = self.current_player\n",
        "            self.current_player = 'O' if self.current_player == 'X' else 'X'\n",
        "            return True\n",
        "        return False\n",
        "\n",
        "    def check_winner(self):\n",
        "        win_conditions = [\n",
        "            (0, 1, 2), (3, 4, 5), (6, 7, 8),\n",
        "            (0, 3, 6), (1, 4, 7), (2, 5, 8),\n",
        "            (0, 4, 8), (2, 4, 6)\n",
        "        ]\n",
        "        for condition in win_conditions:\n",
        "            a, b, c = condition\n",
        "            if self.board[a] == self.board[b] == self.board[c] != ' ':\n",
        "                return self.board[a]\n",
        "        return None\n",
        "\n",
        "    def is_full(self):\n",
        "        return ' ' not in self.board\n",
        "\n",
        "    def reset(self):\n",
        "        self.board = [' '] * 9\n",
        "        self.current_player = 'X'"
      ]
    }
  ]
}